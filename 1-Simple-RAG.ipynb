{
 "cells": [
  {
   "cell_type": "code",
   "execution_count": null,
   "id": "f9b8874c",
   "metadata": {},
   "outputs": [],
   "source": [
    "from langchain.text_splitter import RecursiveCharacterTextSplitter\n",
    "from langchain.vectorstores import MongoDBAtlasVectorSearch\n",
    "from langchain.embeddings import OpenAIEmbeddings\n",
    "from langchain.chains import RetrievalQA\n",
    "from langchain.llms import OpenAI\n",
    "import utils  # your utility module\n",
    "import ssl\n",
    "from pymongo import MongoClient\n",
    "import os\n",
    "from dotenv import load_dotenv\n",
    "from langchain.prompts import ChatPromptTemplate\n",
    "from langchain.schema import HumanMessage, SystemMessage\n",
    "from langchain_google_genai import ChatGoogleGenerativeAI\n",
    "\n",
    "\n",
    "load_dotenv(override=True)\n",
    "\n",
    "\n"
   ]
  },
  {
   "cell_type": "code",
   "execution_count": 10,
   "id": "2ab7e20e",
   "metadata": {},
   "outputs": [
    {
     "name": "stdout",
     "output_type": "stream",
     "text": [
      "Data loaded: 45744 characters\n"
     ]
    }
   ],
   "source": [
    "data = utils.read_data()\n",
    "print(f\"Data loaded: {len(data)} characters\")\n"
   ]
  },
  {
   "cell_type": "code",
   "execution_count": 11,
   "id": "e7a882ae",
   "metadata": {},
   "outputs": [
    {
     "name": "stdout",
     "output_type": "stream",
     "text": [
      "Number of chunks created: 101\n"
     ]
    }
   ],
   "source": [
    "splitter = RecursiveCharacterTextSplitter(\n",
    "    chunk_size=500,\n",
    "    chunk_overlap=50\n",
    ")\n",
    "docs = splitter.create_documents([data])\n",
    "print(f\"Number of chunks created: {len(docs)}\")\n"
   ]
  },
  {
   "cell_type": "code",
   "execution_count": 14,
   "id": "a330d593",
   "metadata": {},
   "outputs": [],
   "source": [
    "# Step 3: Create embeddings\n",
    "embedding = OpenAIEmbeddings(model='text-embedding-3-small')\n"
   ]
  },
  {
   "cell_type": "code",
   "execution_count": 13,
   "id": "6a39fff3",
   "metadata": {},
   "outputs": [],
   "source": [
    "\n",
    "load_dotenv(override=True)\n",
    "\n",
    "\n",
    "openai_api_key = os.environ.get(\"OPENAI_API_KEY\")\n",
    "google_api_key = os.environ.get(\"GOOGLE_API_KEY\")\n",
    "\n",
    "\n",
    "\n",
    "client = MongoClient(os.getenv(\"MONGODB_URI\"))\n",
    "collection = client[\"RAG-evaluation\"][\"RAG-simple\"]\n"
   ]
  },
  {
   "cell_type": "code",
   "execution_count": 18,
   "id": "e921b0f4",
   "metadata": {},
   "outputs": [
    {
     "name": "stdout",
     "output_type": "stream",
     "text": [
      "Vector store created successfully.\n"
     ]
    }
   ],
   "source": [
    "\n",
    "# Step 4: Create FAISS vector store\n",
    "vectorstore = MongoDBAtlasVectorSearch.from_documents(\n",
    "            documents=docs,\n",
    "            embedding=embedding,\n",
    "            collection=collection,\n",
    "            index_name=\"vector_index\"\n",
    "        )\n",
    "print(\"Vector store created successfully.\")\n"
   ]
  },
  {
   "cell_type": "code",
   "execution_count": 37,
   "id": "dde54e38",
   "metadata": {},
   "outputs": [
    {
     "name": "stdout",
     "output_type": "stream",
     "text": [
      "giving your skin some love has both cosmetic and medical beneﬁts. For instance, although you\n",
      "can’t slow down the passage of time, with a ﬁnely tuned skin-care regimen you can reduce the\n",
      "appearance of ﬁne lines, wrinkles, dark spots, and sun damage. You can also quite eﬀectively\n",
      "manage some more minor skin concerns, such as dryness or oiliness, with face care products.For those with speciﬁc skin conditions such as psoriasis, eczema, rosacea, and acne, skin care\n",
      "giving your skin some love has both cosmetic and medical beneﬁts. For instance, although you\n",
      "can’t slow down the passage of time, with a ﬁnely tuned skin-care regimen you can reduce the\n",
      "appearance of ﬁne lines, wrinkles, dark spots, and sun damage. You can also quite eﬀectively\n",
      "manage some more minor skin concerns, such as dryness or oiliness, with face care products.For those with speciﬁc skin conditions such as psoriasis, eczema, rosacea, and acne, skin care\n",
      "aging. (\u0000e other is sunscreen!) Retinoids, which are forms of vitamin A, work by stimulating\n",
      "the skin-cell-shedding process from below, leading to smoother skin and a reduction in both\n",
      "signs of aging and acne.\n",
      "\u0000ese come in both prescription and over-the-counter products, \u0000pically with a concentration\n",
      "of 1%, so if you aren’t satisﬁed with the results of an over-the-counter option, check with a\n",
      "dermatologist about ge\u0000ing a prescription version. If you’re using it to address signs of aging\n",
      "aging. (\u0000e other is sunscreen!) Retinoids, which are forms of vitamin A, work by stimulating\n",
      "the skin-cell-shedding process from below, leading to smoother skin and a reduction in both\n",
      "signs of aging and acne.\n",
      "\u0000ese come in both prescription and over-the-counter products, \u0000pically with a concentration\n",
      "of 1%, so if you aren’t satisﬁed with the results of an over-the-counter option, check with a\n",
      "dermatologist about ge\u0000ing a prescription version. If you’re using it to address signs of aging\n",
      "More on ingredients for aging:\n",
      "Can People With Sensitive Skin Be in the Retinoid Club Too?\n",
      "\u0000e Best Antioxidants for Skin, According to Dermatologists\n",
      "What Niacinamide Can—and Can’t—Do for Your Skin\n",
      "\u0000e 8 Best Retinol Creams, According to Dermatologists\n",
      "Why Just About Everyone Should \u0000ink About Using a Ceramide Cream\n",
      "Ask a Beau\u0000 Editor: What Do I Need to Look for in a Vitamin C Serum?\n",
      "Acne\n",
      "Although it’s very common, acne is a lot more complicated than most of us realize. For instance,\n"
     ]
    }
   ],
   "source": [
    "# Create retriever\n",
    "retriever = vectorstore.as_retriever(search_type=\"similarity\", search_kwargs={\"k\": 5})\n",
    "\n",
    "# Example query\n",
    "query = \"how to delay skin aging\"\n",
    "results = retriever.get_relevant_documents(query)\n",
    "\n",
    "for r in results:\n",
    "    print(r.page_content)"
   ]
  },
  {
   "cell_type": "code",
   "execution_count": null,
   "id": "692bd59c",
   "metadata": {},
   "outputs": [],
   "source": []
  }
 ],
 "metadata": {
  "kernelspec": {
   "display_name": "Python 3",
   "language": "python",
   "name": "python3"
  },
  "language_info": {
   "codemirror_mode": {
    "name": "ipython",
    "version": 3
   },
   "file_extension": ".py",
   "mimetype": "text/x-python",
   "name": "python",
   "nbconvert_exporter": "python",
   "pygments_lexer": "ipython3",
   "version": "3.11.8"
  }
 },
 "nbformat": 4,
 "nbformat_minor": 5
}
