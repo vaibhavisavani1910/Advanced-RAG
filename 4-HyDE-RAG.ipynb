{
 "cells": [
  {
   "cell_type": "code",
   "execution_count": 2,
   "id": "7a2ead59",
   "metadata": {},
   "outputs": [
    {
     "data": {
      "text/plain": [
       "True"
      ]
     },
     "execution_count": 2,
     "metadata": {},
     "output_type": "execute_result"
    }
   ],
   "source": [
    "from langchain.text_splitter import RecursiveCharacterTextSplitter\n",
    "from langchain.vectorstores import MongoDBAtlasVectorSearch\n",
    "from langchain.embeddings import OpenAIEmbeddings\n",
    "from langchain.chains import RetrievalQA\n",
    "from langchain.prompts import ChatPromptTemplate\n",
    "from langchain.schema import HumanMessage, SystemMessage\n",
    "from langchain_google_genai import ChatGoogleGenerativeAI\n",
    "from pymongo import MongoClient\n",
    "import utils, os\n",
    "from dotenv import load_dotenv\n",
    "\n",
    "load_dotenv(override=True)"
   ]
  },
  {
   "cell_type": "code",
   "execution_count": 3,
   "id": "d0d8c3cb",
   "metadata": {},
   "outputs": [
    {
     "name": "stderr",
     "output_type": "stream",
     "text": [
      "/var/folders/s2/tb48c2wd03jbyvkwy3zmp8gw0000gn/T/ipykernel_35743/3378671910.py:2: LangChainDeprecationWarning: The class `OpenAIEmbeddings` was deprecated in LangChain 0.0.9 and will be removed in 1.0. An updated version of the class exists in the :class:`~langchain-openai package and should be used instead. To use it run `pip install -U :class:`~langchain-openai` and import as `from :class:`~langchain_openai import OpenAIEmbeddings``.\n",
      "  embedding = OpenAIEmbeddings(model='text-embedding-3-small')  # 1536-dim\n"
     ]
    }
   ],
   "source": [
    "\n",
    "data = utils.read_data()\n",
    "embedding = OpenAIEmbeddings(model='text-embedding-3-small')  # 1536-dim\n"
   ]
  },
  {
   "cell_type": "code",
   "execution_count": 5,
   "id": "cd4a3fa9",
   "metadata": {},
   "outputs": [
    {
     "name": "stderr",
     "output_type": "stream",
     "text": [
      "/var/folders/s2/tb48c2wd03jbyvkwy3zmp8gw0000gn/T/ipykernel_35743/773328371.py:3: LangChainDeprecationWarning: The class `MongoDBAtlasVectorSearch` was deprecated in LangChain 0.0.25 and will be removed in 1.0. An updated version of the class exists in the :class:`~langchain-mongodb package and should be used instead. To use it run `pip install -U :class:`~langchain-mongodb` and import as `from :class:`~langchain_mongodb import MongoDBAtlasVectorSearch``.\n",
      "  vectorstore = MongoDBAtlasVectorSearch(\n"
     ]
    }
   ],
   "source": [
    "client = MongoClient(os.getenv(\"MONGODB_URI\"))\n",
    "collection = client[\"RAG-evaluation\"][\"RAG-simple\"]\n",
    "vectorstore = MongoDBAtlasVectorSearch(\n",
    "            embedding=embedding,\n",
    "            collection=collection,\n",
    "            index_name=\"vector_index\"\n",
    "        )\n"
   ]
  },
  {
   "cell_type": "code",
   "execution_count": 6,
   "id": "4f406d9d",
   "metadata": {},
   "outputs": [],
   "source": [
    "retriever = vectorstore.as_retriever(search_type=\"similarity\", search_kwargs={\"k\": 5})"
   ]
  },
  {
   "cell_type": "code",
   "execution_count": null,
   "id": "cdf68008",
   "metadata": {},
   "outputs": [
    {
     "name": "stderr",
     "output_type": "stream",
     "text": [
      "/opt/anaconda3/lib/python3.11/site-packages/langchain_community/llms/openai.py:255: UserWarning: You are trying to use a chat model. This way of initializing it is no longer supported. Instead, please use: `from langchain_community.chat_models import ChatOpenAI`\n",
      "  warnings.warn(\n",
      "/opt/anaconda3/lib/python3.11/site-packages/langchain_community/llms/openai.py:1089: UserWarning: You are trying to use a chat model. This way of initializing it is no longer supported. Instead, please use: `from langchain_community.chat_models import ChatOpenAI`\n",
      "  warnings.warn(\n"
     ]
    }
   ],
   "source": [
    "from langchain.llms import OpenAI\n",
    "\n",
    "llm = OpenAI(model_name=\"gpt-3.5-turbo\")"
   ]
  },
  {
   "cell_type": "code",
   "execution_count": null,
   "id": "9260cb88",
   "metadata": {},
   "outputs": [
    {
     "name": "stderr",
     "output_type": "stream",
     "text": [
      "/var/folders/s2/tb48c2wd03jbyvkwy3zmp8gw0000gn/T/ipykernel_35743/368802819.py:3: LangChainDeprecationWarning: The class `ChatOpenAI` was deprecated in LangChain 0.0.10 and will be removed in 1.0. An updated version of the class exists in the :class:`~langchain-openai package and should be used instead. To use it run `pip install -U :class:`~langchain-openai` and import as `from :class:`~langchain_openai import ChatOpenAI``.\n",
      "  llm = ChatOpenAI(model_name=\"gpt-3.5-turbo\", temperature=0.7)\n"
     ]
    },
    {
     "name": "stdout",
     "output_type": "stream",
     "text": [
      "To delay skin aging, start by protecting your skin from the sun with SPF, staying hydrated, and maintaining a healthy diet rich in antioxidants. Use skincare products with retinoids and hyaluronic acid, and incorporate a daily moisturizer. Avoid smoking and excessive alcohol consumption, and prioritize getting enough sleep and managing stress. Regularly exfoliate and use face masks to promote cell turnover. Lastly, consider incorporating collagen supplements or treatments like chemical peels or laser therapy for more advanced anti-aging benefits.\n"
     ]
    }
   ],
   "source": [
    "from langchain.chat_models import ChatOpenAI\n",
    "\n",
    "llm = ChatOpenAI(model_name=\"gpt-3.5-turbo\", temperature=0.7)\n",
    "\n",
    "question = \"how to delay skin aging\"\n",
    "\n",
    "prompt_str = f\"\"\"You are an AI assistant that generates hypothetical answers ('Hyde').\n",
    "Given the question '{question}', generate a hypothetical document that directly answers this question.\n",
    "The document should be detailed and in-depth and exactly 500 characters.\"\"\"\n",
    "\n",
    "# ✅ Latest LangChain API\n",
    "hyde_answer = llm.invoke(prompt_str)\n",
    "\n"
   ]
  },
  {
   "cell_type": "code",
   "execution_count": 21,
   "id": "3328c8f9",
   "metadata": {},
   "outputs": [
    {
     "name": "stderr",
     "output_type": "stream",
     "text": [
      "/var/folders/s2/tb48c2wd03jbyvkwy3zmp8gw0000gn/T/ipykernel_35743/504867814.py:1: LangChainDeprecationWarning: The method `BaseRetriever.get_relevant_documents` was deprecated in langchain-core 0.1.46 and will be removed in 1.0. Use :meth:`~invoke` instead.\n",
      "  retrieved_docs = retriever.get_relevant_documents(hyde_answer.content)\n"
     ]
    },
    {
     "name": "stdout",
     "output_type": "stream",
     "text": [
      "\n",
      "--- Retrieved Chunks based on Hyde ---\n",
      "Rank 1: like ﬁne lines, Dr. Skotnicki recommends starting to use retinol products around age 30 to get\n",
      "ahead of the game. Retinoids are also notorious for causing irritation when you ﬁrst start using\n",
      "them, so...\n",
      "\n",
      "Rank 2: like ﬁne lines, Dr. Skotnicki recommends starting to use retinol products around age 30 to get\n",
      "ahead of the game. Retinoids are also notorious for causing irritation when you ﬁrst start using\n",
      "them, so...\n",
      "\n",
      "Rank 3: aging. (\u0000e other is sunscreen!) Retinoids, which are forms of vitamin A, work by stimulating\n",
      "the skin-cell-shedding process from below, leading to smoother skin and a reduction in both\n",
      "signs of aging ...\n",
      "\n",
      "Rank 4: aging. (\u0000e other is sunscreen!) Retinoids, which are forms of vitamin A, work by stimulating\n",
      "the skin-cell-shedding process from below, leading to smoother skin and a reduction in both\n",
      "signs of aging ...\n",
      "\n",
      "Rank 5: giving your skin some love has both cosmetic and medical beneﬁts. For instance, although you\n",
      "can’t slow down the passage of time, with a ﬁnely tuned skin-care regimen you can reduce the\n",
      "appearance of ...\n",
      "\n"
     ]
    }
   ],
   "source": [
    "retrieved_docs = retriever.get_relevant_documents(hyde_answer.content)\n",
    "\n",
    "print(\"\\n--- Retrieved Chunks based on Hyde ---\")\n",
    "for i, doc in enumerate(retrieved_docs):\n",
    "    print(f\"Rank {i+1}: {doc.page_content[:200]}...\\n\")"
   ]
  },
  {
   "cell_type": "code",
   "execution_count": null,
   "id": "24186be9",
   "metadata": {},
   "outputs": [],
   "source": []
  }
 ],
 "metadata": {
  "kernelspec": {
   "display_name": "Python 3",
   "language": "python",
   "name": "python3"
  },
  "language_info": {
   "codemirror_mode": {
    "name": "ipython",
    "version": 3
   },
   "file_extension": ".py",
   "mimetype": "text/x-python",
   "name": "python",
   "nbconvert_exporter": "python",
   "pygments_lexer": "ipython3",
   "version": "3.11.8"
  }
 },
 "nbformat": 4,
 "nbformat_minor": 5
}
