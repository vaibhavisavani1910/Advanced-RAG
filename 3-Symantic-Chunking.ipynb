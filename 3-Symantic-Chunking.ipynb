{
 "cells": [
  {
   "cell_type": "code",
   "execution_count": 2,
   "id": "6dcb2906",
   "metadata": {},
   "outputs": [
    {
     "data": {
      "text/plain": [
       "True"
      ]
     },
     "execution_count": 2,
     "metadata": {},
     "output_type": "execute_result"
    }
   ],
   "source": [
    "from langchain_experimental.text_splitter import SemanticChunker\n",
    "from langchain.vectorstores import MongoDBAtlasVectorSearch\n",
    "from langchain.embeddings import OpenAIEmbeddings\n",
    "from pymongo import MongoClient\n",
    "import utils, os\n",
    "from dotenv import load_dotenv\n",
    "\n",
    "load_dotenv(override=True)"
   ]
  },
  {
   "cell_type": "code",
   "execution_count": 3,
   "id": "53e31510",
   "metadata": {},
   "outputs": [
    {
     "name": "stdout",
     "output_type": "stream",
     "text": [
      "Data loaded: 45744 characters\n"
     ]
    },
    {
     "name": "stderr",
     "output_type": "stream",
     "text": [
      "/var/folders/s2/tb48c2wd03jbyvkwy3zmp8gw0000gn/T/ipykernel_35362/907117647.py:6: LangChainDeprecationWarning: The class `OpenAIEmbeddings` was deprecated in LangChain 0.0.9 and will be removed in 1.0. An updated version of the class exists in the :class:`~langchain-openai package and should be used instead. To use it run `pip install -U :class:`~langchain-openai` and import as `from :class:`~langchain_openai import OpenAIEmbeddings``.\n",
      "  embedding = OpenAIEmbeddings(model='text-embedding-3-small')  # 1536-dim vectors\n"
     ]
    }
   ],
   "source": [
    "# Load data\n",
    "data = utils.read_data()\n",
    "print(f\"Data loaded: {len(data)} characters\")\n",
    "\n",
    "# Initialize embeddings\n",
    "embedding = OpenAIEmbeddings(model='text-embedding-3-small')  # 1536-dim vectors\n"
   ]
  },
  {
   "cell_type": "code",
   "execution_count": 4,
   "id": "7e0f8856",
   "metadata": {},
   "outputs": [],
   "source": [
    "\n",
    "# Connect to Mongo\n",
    "client = MongoClient(os.getenv(\"MONGODB_URI\"))\n",
    "db = client[\"RAG-evaluation\"]\n",
    "\n"
   ]
  },
  {
   "cell_type": "code",
   "execution_count": 5,
   "id": "f51a6876",
   "metadata": {},
   "outputs": [
    {
     "name": "stdout",
     "output_type": "stream",
     "text": [
      "Number of semantic chunks: 18\n"
     ]
    }
   ],
   "source": [
    "# --------------------------------------------------\n",
    "# Semantic Chunking\n",
    "# --------------------------------------------------\n",
    "semantic_splitter = SemanticChunker(embeddings=embedding, breakpoint_threshold_type=\"percentile\")\n",
    "semantic_docs = semantic_splitter.create_documents([data])\n",
    "print(f\"Number of semantic chunks: {len(semantic_docs)}\")\n",
    "\n"
   ]
  },
  {
   "cell_type": "code",
   "execution_count": 17,
   "id": "6d4b4b57",
   "metadata": {},
   "outputs": [],
   "source": [
    "# --------------------------------------------------\n",
    "# Store in new collection\n",
    "# --------------------------------------------------\n",
    "semantic_collection = db[\"RAG-symantic-chunk\"]\n",
    "semantic_vectorstore = MongoDBAtlasVectorSearch.from_documents(\n",
    "    documents=semantic_docs,\n",
    "    embedding=embedding,\n",
    "    collection=semantic_collection,\n",
    "    index_name=\"default\"  # unique index name\n",
    ")\n",
    "\n"
   ]
  },
  {
   "cell_type": "code",
   "execution_count": 18,
   "id": "589d6d4b",
   "metadata": {},
   "outputs": [],
   "source": [
    "semantic_retriever = semantic_vectorstore.as_retriever(search_type=\"similarity\", search_kwargs={\"k\": 5})\n"
   ]
  },
  {
   "cell_type": "code",
   "execution_count": 19,
   "id": "f968b3c4",
   "metadata": {},
   "outputs": [
    {
     "name": "stdout",
     "output_type": "stream",
     "text": [
      "\n",
      "--- Semantic Chunk Retrieval ---\n",
      "Rank 1: \u0000ey’re made up of short chains\n",
      "of amino acids. In the realm of skin care, we mostly talk about peptides as building up collagen,\n",
      "a protein your skin needs to keep its structure. Diﬀerent \u0000pes of pepti...\n",
      "\n",
      "Rank 2: Great. So how do I know which active ingredients are right\n",
      "for my skin? Picking the right active ingredients depends on the speciﬁc skin concerns you’re hoping to\n",
      "address. Here are a few of the most c...\n",
      "\n",
      "Rank 3: Back to top\n",
      "Sources:\n",
      "\u0000. Journal of the American Academy of Dermatology, Topical niacinamide-containing\n",
      "product reduces facial skin sallowness (yellowing)\n",
      "\u0000. MedlinePlus, Azelaic Acid Topical\n",
      "\u0000. Britis...\n",
      "\n",
      "Rank 4: Pro tip: You can use a moisturizer that has at least 30 SPF and\n",
      "broad-spectrum protection to combine those two steps. When it comes to choosing a sunscreen you have options of physical sunscreens or c...\n",
      "\n",
      "Rank 5: Moisturizing—almost to an excessive degree—and time. If that\n",
      "doesn’t help, you should chat with a dermatologist about your other options, which may include\n",
      "prescription topical treatments or laser tre...\n",
      "\n"
     ]
    }
   ],
   "source": [
    "# --------------------------------------------------\n",
    "# Example Query\n",
    "# --------------------------------------------------\n",
    "query = \"how to delay skin aging\"\n",
    "results = semantic_retriever.get_relevant_documents(query)\n",
    "\n",
    "print(\"\\n--- Semantic Chunk Retrieval ---\")\n",
    "for i, r in enumerate(results):\n",
    "    print(f\"Rank {i+1}: {r.page_content[:200]}...\\n\")"
   ]
  },
  {
   "cell_type": "code",
   "execution_count": null,
   "id": "0a343e1c",
   "metadata": {},
   "outputs": [],
   "source": []
  }
 ],
 "metadata": {
  "kernelspec": {
   "display_name": "Python 3",
   "language": "python",
   "name": "python3"
  },
  "language_info": {
   "codemirror_mode": {
    "name": "ipython",
    "version": 3
   },
   "file_extension": ".py",
   "mimetype": "text/x-python",
   "name": "python",
   "nbconvert_exporter": "python",
   "pygments_lexer": "ipython3",
   "version": "3.11.8"
  }
 },
 "nbformat": 4,
 "nbformat_minor": 5
}
